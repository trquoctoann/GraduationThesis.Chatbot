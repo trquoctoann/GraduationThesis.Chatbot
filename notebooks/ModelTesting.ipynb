{
 "cells": [
  {
   "cell_type": "code",
   "execution_count": 2,
   "metadata": {},
   "outputs": [],
   "source": [
    "import re\n",
    "\n",
    "from joblib import load\n",
    "\n",
    "from utils.preprocessing import preprocessing\n",
    "\n",
    "order_labels = ['B-Quantity', 'B-Pizza', 'I-Pizza', 'B-Topping', 'B-Size', 'I-Size', 'O', 'B-Crust', 'I-Crust']\n",
    "customer_info_labels = ['B-Cus', 'I-Cus', 'B-Address', \"I-Address\", 'B-Phone', 'O', 'B-Payment', 'I-Payment']\n",
    "\n",
    "\n",
    "class EntitiesRecognizer:\n",
    "    def __init__(self, model_path: str, is_order: bool):\n",
    "        self.model = self._load_model(model_path)\n",
    "        self.labels = order_labels if is_order else customer_info_labels\n",
    "\n",
    "    def _load_model(self, model_path):\n",
    "        return load(model_path)\n",
    "\n",
    "    def word2features(self, sentence, i):\n",
    "        word = sentence[i]\n",
    "        features = {\n",
    "            \"bias\": 1.0,\n",
    "            \"word.lower()\": word.lower(),\n",
    "            \"word[-3:]\": word[-3:],\n",
    "            \"word[-2:]\": word[-2:],\n",
    "            \"word.isupper()\": word.isupper(),\n",
    "            \"word.isdigit()\": word.isdigit(),\n",
    "        }\n",
    "        if i > 0:\n",
    "            word1 = sentence[i - 1]\n",
    "            features.update(\n",
    "                {\n",
    "                    \"-1:word.lower()\": word1.lower(),\n",
    "                    \"-1:word.isupper()\": word1.isupper(),\n",
    "                    \"-1:word.isdigit()\": word1.isdigit(),\n",
    "                }\n",
    "            )\n",
    "        else:\n",
    "            features[\"BOS\"] = True\n",
    "\n",
    "        if i < len(sentence) - 1:\n",
    "            word1 = sentence[i + 1]\n",
    "            features.update(\n",
    "                {\n",
    "                    \"+1:word.lower()\": word1.lower(),\n",
    "                    \"+1:word.isupper()\": word1.isupper(),\n",
    "                    \"+1:word.isdigit()\": word1.isdigit(),\n",
    "                }\n",
    "            )\n",
    "        else:\n",
    "            features[\"EOS\"] = True\n",
    "\n",
    "        return features\n",
    "\n",
    "    def sentence_features(self, words):\n",
    "        return [self.word2features(words, i) for i in range(len(words))]\n",
    "\n",
    "    def sentence_labels(self, labels):\n",
    "        return labels\n",
    "\n",
    "    def process_sentence(self, sentence):\n",
    "        tokens = re.findall(r\"[\\w']+|[.,!?;]\", sentence)\n",
    "        return {\n",
    "            \"words\": tokens,\n",
    "            \"label\": [\"O\"] * len(tokens),\n",
    "        }\n",
    "\n",
    "    def predict(self, text):\n",
    "        text = preprocessing(text, True)\n",
    "        processed_sentence = self.process_sentence(text)\n",
    "        words = processed_sentence[\"words\"]\n",
    "        features = self.sentence_features(words)\n",
    "\n",
    "        labels = self.model.predict([features])[0]\n",
    "\n",
    "        result = {\n",
    "            \"words\": words,\n",
    "            \"label\": labels,\n",
    "        }\n",
    "        return self.aggregate_entities(result)\n",
    "\n",
    "    def aggregate_entities(self, predicted_result):\n",
    "        aggregated_entities = {}\n",
    "        current_entity = None\n",
    "        current_label = None\n",
    "\n",
    "        for word, label in zip(predicted_result[\"words\"], predicted_result[\"label\"]):\n",
    "            if label.startswith(\"B-\"):\n",
    "                if current_entity is not None and current_label is not None:\n",
    "                    if current_label in aggregated_entities:\n",
    "                        aggregated_entities[current_label].append(\n",
    "                            \" \".join(current_entity)\n",
    "                        )\n",
    "                    else:\n",
    "                        aggregated_entities[current_label] = [\" \".join(current_entity)]\n",
    "\n",
    "                current_entity = [word]\n",
    "                current_label = label[2:]\n",
    "            elif (\n",
    "                label.startswith(\"I-\")\n",
    "                and current_entity is not None\n",
    "                and label[2:] == current_label\n",
    "            ):\n",
    "                current_entity.append(word)\n",
    "            else:\n",
    "                if current_entity is not None and current_label is not None:\n",
    "                    if current_label in aggregated_entities:\n",
    "                        aggregated_entities[current_label].append(\n",
    "                            \" \".join(current_entity)\n",
    "                        )\n",
    "                    else:\n",
    "                        aggregated_entities[current_label] = [\" \".join(current_entity)]\n",
    "                    current_entity = None\n",
    "                    current_label = None\n",
    "                if label == \"O\":\n",
    "                    continue\n",
    "                else:\n",
    "                    aggregated_entities[label] = aggregated_entities.get(label, []) + [\n",
    "                        word\n",
    "                    ]\n",
    "\n",
    "        if current_entity is not None and current_label is not None:\n",
    "            if current_label in aggregated_entities:\n",
    "                aggregated_entities[current_label].append(\" \".join(current_entity))\n",
    "            else:\n",
    "                aggregated_entities[current_label] = [\" \".join(current_entity)]\n",
    "\n",
    "        return aggregated_entities\n"
   ]
  },
  {
   "cell_type": "code",
   "execution_count": 4,
   "metadata": {},
   "outputs": [],
   "source": [
    "order_model = EntitiesRecognizer(\"../output/savedmodels/order_entity_v2.h5\", True)\n",
    "customer_info_model = EntitiesRecognizer(\"../output/savedmodels/customer_info_entity_v1.h5\", False)"
   ]
  },
  {
   "cell_type": "code",
   "execution_count": 18,
   "metadata": {},
   "outputs": [
    {
     "data": {
      "text/plain": [
       "{'Quantity': ['2'],\n",
       " 'Pizza': ['cai pepperoni'],\n",
       " 'Topping': ['nấm_rơm', 'ba_chỉ_bò_nướng']}"
      ]
     },
     "execution_count": 18,
     "metadata": {},
     "output_type": "execute_result"
    }
   ],
   "source": [
    "order_model.predict(\"e cho t xin 2 cai pepperoni voi nam rom va ba chi bo nuong\")"
   ]
  },
  {
   "cell_type": "code",
   "execution_count": 19,
   "metadata": {},
   "outputs": [
    {
     "data": {
      "text/plain": [
       "{'Address': ['thanh_xuân']}"
      ]
     },
     "execution_count": 19,
     "metadata": {},
     "output_type": "execute_result"
    }
   ],
   "source": [
    "customer_info_model.predict(\"ship den pho thanh xuan cho t\")"
   ]
  },
  {
   "cell_type": "code",
   "execution_count": 16,
   "metadata": {},
   "outputs": [],
   "source": [
    "import torch\n",
    "import torch.nn as nn\n",
    "import numpy as np\n",
    "from transformers import AutoModel, AutoTokenizer\n",
    "from utils.preprocessing import preprocessing\n",
    "\n",
    "THRESHOLD = 0.99\n",
    "MAX_LEN = 128\n",
    "device = torch.device(\"cuda\") if torch.cuda.is_available() else torch.device(\"cpu\")\n",
    "\n",
    "\n",
    "class IntentsRecognizer(nn.Module):\n",
    "    def __init__(self):\n",
    "        super(IntentsRecognizer, self).__init__()\n",
    "        self.phobert = AutoModel.from_pretrained(\"vinai/phobert-base\")\n",
    "        self.dropout = nn.Dropout(p=0.3)\n",
    "        self.linear = nn.Linear(768, 9)\n",
    "        self.intent_labels = [\n",
    "            \"view_menu\",\n",
    "            \"view_cart\",\n",
    "            \"add_to_cart\",\n",
    "            \"remove_from_cart\",\n",
    "            \"modify_cart_item\",\n",
    "            \"confirm_order\",\n",
    "            \"track_order\",\n",
    "            \"cancel_order\",\n",
    "            \"provide_info\",\n",
    "        ]\n",
    "        self.intent_tokenizer = AutoTokenizer.from_pretrained(\"vinai/phobert-base\", use_fast=False)\n",
    "\n",
    "    def forward(self, input_ids, attn_mask, token_type_ids):\n",
    "        output = self.phobert(input_ids, attention_mask=attn_mask, token_type_ids=token_type_ids)\n",
    "        output_dropout = self.dropout(output.pooler_output)\n",
    "        output = self.linear(output_dropout)\n",
    "        return output\n",
    "\n",
    "    def predict(self, text):\n",
    "        text = preprocessing(text, False)\n",
    "        encoded_text = self.intent_tokenizer.encode_plus(\n",
    "            text,\n",
    "            max_length=MAX_LEN,\n",
    "            add_special_tokens=True,\n",
    "            return_token_type_ids=True,\n",
    "            pad_to_max_length=True,\n",
    "            return_attention_mask=True,\n",
    "            return_tensors=\"pt\",\n",
    "        )\n",
    "        input_ids = encoded_text[\"input_ids\"].to(device)\n",
    "        attention_mask = encoded_text[\"attention_mask\"].to(device)\n",
    "        token_type_ids = encoded_text[\"token_type_ids\"].to(device)\n",
    "        output = self(input_ids, attention_mask, token_type_ids)\n",
    "        probabilities = torch.softmax(output, dim=-1).detach().cpu().numpy().flatten()\n",
    "\n",
    "        max_prob = np.max(probabilities)\n",
    "        max_prob_index = np.argmax(probabilities)\n",
    "\n",
    "        print(probabilities)\n",
    "        if max_prob >= THRESHOLD:\n",
    "            return self.intent_labels[max_prob_index]\n",
    "        else:\n",
    "            return None"
   ]
  },
  {
   "cell_type": "code",
   "execution_count": 17,
   "metadata": {},
   "outputs": [
    {
     "data": {
      "text/plain": [
       "IntentsRecognizer(\n",
       "  (phobert): RobertaModel(\n",
       "    (embeddings): RobertaEmbeddings(\n",
       "      (word_embeddings): Embedding(64001, 768, padding_idx=1)\n",
       "      (position_embeddings): Embedding(258, 768, padding_idx=1)\n",
       "      (token_type_embeddings): Embedding(1, 768)\n",
       "      (LayerNorm): LayerNorm((768,), eps=1e-05, elementwise_affine=True)\n",
       "      (dropout): Dropout(p=0.1, inplace=False)\n",
       "    )\n",
       "    (encoder): RobertaEncoder(\n",
       "      (layer): ModuleList(\n",
       "        (0-11): 12 x RobertaLayer(\n",
       "          (attention): RobertaAttention(\n",
       "            (self): RobertaSelfAttention(\n",
       "              (query): Linear(in_features=768, out_features=768, bias=True)\n",
       "              (key): Linear(in_features=768, out_features=768, bias=True)\n",
       "              (value): Linear(in_features=768, out_features=768, bias=True)\n",
       "              (dropout): Dropout(p=0.1, inplace=False)\n",
       "            )\n",
       "            (output): RobertaSelfOutput(\n",
       "              (dense): Linear(in_features=768, out_features=768, bias=True)\n",
       "              (LayerNorm): LayerNorm((768,), eps=1e-05, elementwise_affine=True)\n",
       "              (dropout): Dropout(p=0.1, inplace=False)\n",
       "            )\n",
       "          )\n",
       "          (intermediate): RobertaIntermediate(\n",
       "            (dense): Linear(in_features=768, out_features=3072, bias=True)\n",
       "            (intermediate_act_fn): GELUActivation()\n",
       "          )\n",
       "          (output): RobertaOutput(\n",
       "            (dense): Linear(in_features=3072, out_features=768, bias=True)\n",
       "            (LayerNorm): LayerNorm((768,), eps=1e-05, elementwise_affine=True)\n",
       "            (dropout): Dropout(p=0.1, inplace=False)\n",
       "          )\n",
       "        )\n",
       "      )\n",
       "    )\n",
       "    (pooler): RobertaPooler(\n",
       "      (dense): Linear(in_features=768, out_features=768, bias=True)\n",
       "      (activation): Tanh()\n",
       "    )\n",
       "  )\n",
       "  (dropout): Dropout(p=0.3, inplace=False)\n",
       "  (linear): Linear(in_features=768, out_features=9, bias=True)\n",
       ")"
      ]
     },
     "execution_count": 17,
     "metadata": {},
     "output_type": "execute_result"
    }
   ],
   "source": [
    "intent_model = IntentsRecognizer()\n",
    "intent_model.load_state_dict(torch.load(\"../output/savedmodels/intents_v2.bin\"))\n",
    "intent_model.to(device)"
   ]
  },
  {
   "cell_type": "code",
   "execution_count": 27,
   "metadata": {},
   "outputs": [
    {
     "name": "stdout",
     "output_type": "stream",
     "text": [
      "[5.91382050e-05 1.05170882e-04 1.97371322e-04 9.99201596e-01\n",
      " 1.00157326e-04 7.44513309e-05 8.43253147e-05 1.04384693e-04\n",
      " 7.33972411e-05]\n"
     ]
    },
    {
     "data": {
      "text/plain": [
       "'remove_from_cart'"
      ]
     },
     "execution_count": 27,
     "metadata": {},
     "output_type": "execute_result"
    }
   ],
   "source": [
    "intent_model.predict(\"e xoa 1 cai pepperoni na\")"
   ]
  },
  {
   "cell_type": "code",
   "execution_count": null,
   "metadata": {},
   "outputs": [],
   "source": []
  }
 ],
 "metadata": {
  "kernelspec": {
   "display_name": "Python 3",
   "language": "python",
   "name": "python3"
  },
  "language_info": {
   "codemirror_mode": {
    "name": "ipython",
    "version": 3
   },
   "file_extension": ".py",
   "mimetype": "text/x-python",
   "name": "python",
   "nbconvert_exporter": "python",
   "pygments_lexer": "ipython3",
   "version": "3.12.1"
  }
 },
 "nbformat": 4,
 "nbformat_minor": 2
}
