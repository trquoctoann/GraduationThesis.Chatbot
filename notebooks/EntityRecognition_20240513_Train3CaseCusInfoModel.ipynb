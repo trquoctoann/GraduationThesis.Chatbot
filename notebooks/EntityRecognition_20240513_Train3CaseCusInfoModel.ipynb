{
 "cells": [
  {
   "cell_type": "markdown",
   "metadata": {},
   "source": [
    "## Import library"
   ]
  },
  {
   "cell_type": "code",
   "execution_count": 5,
   "metadata": {},
   "outputs": [],
   "source": [
    "import json\n",
    "import re\n",
    "from joblib import dump\n",
    "from itertools import chain\n",
    "from sklearn_crfsuite import CRF\n",
    "from utils.preprocessing import preprocessing\n",
    "from sklearn.model_selection import train_test_split"
   ]
  },
  {
   "cell_type": "markdown",
   "metadata": {},
   "source": [
    "## Implement CRF model"
   ]
  },
  {
   "cell_type": "code",
   "execution_count": 6,
   "metadata": {},
   "outputs": [],
   "source": [
    "class CustomerInfoCRFModel:\n",
    "    def __init__(self):\n",
    "        self.model = CRF(\n",
    "            algorithm='lbfgs',\n",
    "            c1=0.1,\n",
    "            c2=0.1,\n",
    "            max_iterations=100,\n",
    "            all_possible_transitions=True\n",
    "        )\n",
    "        self.labels = ['Quantity', 'Pizza', 'Topping', 'Size', 'Crust', 'O']\n",
    "    \n",
    "    def word2features(self, sentence, i):\n",
    "        word = sentence[i]\n",
    "        features = {\n",
    "            'bias': 1.0,\n",
    "            'word.lower()': word.lower(),\n",
    "            'word[-3:]': word[-3:],\n",
    "            'word[-2:]': word[-2:],\n",
    "            'word.isupper()': word.isupper(),\n",
    "            'word.isdigit()': word.isdigit(),\n",
    "        }\n",
    "        if i > 0:\n",
    "            word1 = sentence[i-1]\n",
    "            features.update({\n",
    "                '-1:word.lower()': word1.lower(),\n",
    "                '-1:word.isupper()': word1.isupper(),\n",
    "                '-1:word.isdigit()': word1.isdigit(),\n",
    "            })\n",
    "        else:\n",
    "            features['BOS'] = True\n",
    "\n",
    "        if i < len(sentence)-1:\n",
    "            word1 = sentence[i+1]\n",
    "            features.update({\n",
    "                '+1:word.lower()': word1.lower(),\n",
    "                '+1:word.isupper()': word1.isupper(),\n",
    "                '+1:word.isdigit()': word1.isdigit(),\n",
    "            })\n",
    "        else:\n",
    "            features['EOS'] = True\n",
    "            \n",
    "        return features\n",
    "\n",
    "    def sentence_features(self, words):\n",
    "        return [self.word2features(words, i) for i in range(len(words))]\n",
    "\n",
    "    def sentence_labels(self, labels):\n",
    "        return labels\n",
    "\n",
    "    def load_data_from_json(self, file_path):\n",
    "        with open(file_path, 'r', encoding='utf-8') as file:\n",
    "            data = json.load(file)\n",
    "        return [(\n",
    "            item['words'], \n",
    "            item['label']\n",
    "        ) for item in data]\n",
    "\n",
    "    def train(self, data):\n",
    "        X = [self.sentence_features(s[0]) for s in data]\n",
    "        y = [self.sentence_labels(s[1]) for s in data]\n",
    "\n",
    "        self.model.fit(X, y)\n",
    "\n",
    "    def process_sentence(self, sentence):\n",
    "        tokens = re.findall(r\"[\\w']+|[.,!?;]\", sentence)\n",
    "        return {\n",
    "            \"words\": tokens,\n",
    "            \"label\": [\"O\"] * len(tokens),\n",
    "        }\n",
    "\n",
    "    def predict(self, text):\n",
    "        processed_sentence = self.process_sentence(text)\n",
    "        words = processed_sentence[\"words\"]\n",
    "        features = self.sentence_features(words)\n",
    "\n",
    "        labels = self.model.predict([features])[0]\n",
    "\n",
    "        return {\n",
    "            \"words\": words,\n",
    "            \"label\": labels,\n",
    "        }\n",
    "\n",
    "    def save_model(self, file_path):\n",
    "        dump(self.model, file_path)"
   ]
  },
  {
   "cell_type": "code",
   "execution_count": 38,
   "metadata": {},
   "outputs": [],
   "source": [
    "model = CustomerInfoCRFModel()\n",
    "data = model.load_data_from_json('../data/labeled/entity/order/case_3_train.json')\n",
    "model.train(data)\n",
    "model.save_model(\"order_entity_case_3.h5\")"
   ]
  },
  {
   "cell_type": "code",
   "execution_count": null,
   "metadata": {},
   "outputs": [],
   "source": []
  }
 ],
 "metadata": {
  "kernelspec": {
   "display_name": "Python 3",
   "language": "python",
   "name": "python3"
  },
  "language_info": {
   "codemirror_mode": {
    "name": "ipython",
    "version": 3
   },
   "file_extension": ".py",
   "mimetype": "text/x-python",
   "name": "python",
   "nbconvert_exporter": "python",
   "pygments_lexer": "ipython3",
   "version": "3.12.0"
  }
 },
 "nbformat": 4,
 "nbformat_minor": 2
}
